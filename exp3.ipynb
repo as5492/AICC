{
  "nbformat": 4,
  "nbformat_minor": 0,
  "metadata": {
    "colab": {
      "provenance": [],
      "authorship_tag": "ABX9TyM7ZHOuchHnFGpiUOTFluvi",
      "include_colab_link": true
    },
    "kernelspec": {
      "name": "python3",
      "display_name": "Python 3"
    },
    "language_info": {
      "name": "python"
    }
  },
  "cells": [
    {
      "cell_type": "markdown",
      "metadata": {
        "id": "view-in-github",
        "colab_type": "text"
      },
      "source": [
        "<a href=\"https://colab.research.google.com/github/as5492/AICC/blob/main/exp3.ipynb\" target=\"_parent\"><img src=\"https://colab.research.google.com/assets/colab-badge.svg\" alt=\"Open In Colab\"/></a>"
      ]
    },
    {
      "cell_type": "code",
      "execution_count": 1,
      "metadata": {
        "colab": {
          "base_uri": "https://localhost:8080/"
        },
        "id": "-gPNhOfDWwn1",
        "outputId": "8e0dff37-8ccd-4860-f46e-2684058cf805"
      },
      "outputs": [
        {
          "output_type": "stream",
          "name": "stdout",
          "text": [
            "Enter current location coordinates (x y): 1 3\n",
            "Enter destination coordinates (x y): 5 7\n",
            "Taxi current location: (1, 3)\n",
            "Taxi destination: (5, 7)\n",
            "Picking up passenger at: (5, 7)\n",
            "Enter destination coordinates (x y): 6 9\n",
            "Passenger on board, heading to destination...\n",
            "Dropping off passenger at: (6, 9)\n",
            "Passenger dropped off successfully.\n"
          ]
        }
      ],
      "source": [
        "class TaxiDriverAgent:\n",
        "    def __init__(self, current_location, destination):\n",
        "        self.current_location = current_location\n",
        "        self.destination = destination\n",
        "\n",
        "    def move_to_destination(self):\n",
        "        x_diff = self.destination[0] - self.current_location[0]\n",
        "        y_diff = self.destination[1] - self.current_location[1]\n",
        "\n",
        "        if x_diff > 0:\n",
        "            self.current_location = (self.current_location[0] + 1, self.current_location[1])\n",
        "        elif x_diff < 0:\n",
        "            self.current_location = (self.current_location[0] - 1, self.current_location[1])\n",
        "        elif y_diff > 0:\n",
        "            self.current_location = (self.current_location[0], self.current_location[1] + 1)\n",
        "        elif y_diff < 0:\n",
        "            self.current_location = (self.current_location[0], self.current_location[1] - 1)\n",
        "\n",
        "    def pickup_passenger(self):\n",
        "        print(\"Picking up passenger at:\", self.current_location)\n",
        "        self.destination = tuple(int(x) for x in input(\"Enter destination coordinates (x y): \").split())\n",
        "\n",
        "    def drop_off_passenger(self):\n",
        "        print(\"Dropping off passenger at:\", self.current_location)\n",
        "\n",
        "# Example Usage\n",
        "current_location = tuple(int(x) for x in input(\"Enter current location coordinates (x y): \").split())\n",
        "destination = tuple(int(x) for x in input(\"Enter destination coordinates (x y): \").split())\n",
        "taxi = TaxiDriverAgent(current_location, destination)\n",
        "\n",
        "print(\"Taxi current location:\", taxi.current_location)\n",
        "print(\"Taxi destination:\", taxi.destination)\n",
        "\n",
        "while taxi.current_location != taxi.destination:\n",
        "    taxi.move_to_destination()\n",
        "\n",
        "taxi.pickup_passenger()\n",
        "print(\"Passenger on board, heading to destination...\")\n",
        "\n",
        "while taxi.current_location != taxi.destination:\n",
        "    taxi.move_to_destination()\n",
        "\n",
        "taxi.drop_off_passenger()\n",
        "print(\"Passenger dropped off successfully.\")"
      ]
    }
  ]
}