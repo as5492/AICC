{
  "nbformat": 4,
  "nbformat_minor": 0,
  "metadata": {
    "colab": {
      "provenance": [],
      "authorship_tag": "ABX9TyO1ekKnLoQxMwveUAHSPUHm",
      "include_colab_link": true
    },
    "kernelspec": {
      "name": "python3",
      "display_name": "Python 3"
    },
    "language_info": {
      "name": "python"
    }
  },
  "cells": [
    {
      "cell_type": "markdown",
      "metadata": {
        "id": "view-in-github",
        "colab_type": "text"
      },
      "source": [
        "<a href=\"https://colab.research.google.com/github/as5492/AICC/blob/main/exp2.ipynb\" target=\"_parent\"><img src=\"https://colab.research.google.com/assets/colab-badge.svg\" alt=\"Open In Colab\"/></a>"
      ]
    },
    {
      "cell_type": "code",
      "execution_count": 2,
      "metadata": {
        "colab": {
          "base_uri": "https://localhost:8080/"
        },
        "id": "u12Gz0tJUyfo",
        "outputId": "e4019dc8-3ce8-4921-dbf7-65c5afdc1f85"
      },
      "outputs": [
        {
          "output_type": "stream",
          "name": "stdout",
          "text": [
            "{'wa': 'Red', 'nt': 'Blue', 'sa': 'Green', 'q': 'Red', 'nsw': 'Blue', 'v': 'Red'}\n"
          ]
        }
      ],
      "source": [
        "colors = ['Red', 'Blue', 'Green']\n",
        "\n",
        "states = ['wa', 'nt', 'sa', 'q', 'nsw', 'v']\n",
        "\n",
        "neighbors = {}\n",
        "neighbors['wa'] = ['nt', 'sa']\n",
        "neighbors['nt'] = ['wa', 'sa', 'q']\n",
        "neighbors['sa'] = ['wa', 'nt', 'q', 'nsw', 'v']\n",
        "neighbors['q'] = ['nt', 'sa', 'snw']\n",
        "neighbors['nsw'] = ['q', 'sa', 'v']\n",
        "neighbors['v'] = ['sa', 'nsw']\n",
        "\n",
        "\n",
        "colors_of_states = {}\n",
        "\n",
        "def promising(state, color):\n",
        "    for neighbor in neighbors.get(state):\n",
        "        color_of_neighbor = colors_of_states.get(neighbor)\n",
        "        if color_of_neighbor == color:\n",
        "            return False\n",
        "\n",
        "    return True\n",
        "\n",
        "def get_color_for_state(state):\n",
        "    for color in colors:\n",
        "        if promising(state, color):\n",
        "            return color\n",
        "\n",
        "def main():\n",
        "    for state in states:\n",
        "        colors_of_states[state] = get_color_for_state(state)\n",
        "\n",
        "    print(colors_of_states)\n",
        "\n",
        "\n",
        "main()"
      ]
    }
  ]
}