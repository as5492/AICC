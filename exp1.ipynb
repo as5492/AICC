{
  "nbformat": 4,
  "nbformat_minor": 0,
  "metadata": {
    "colab": {
      "provenance": [],
      "authorship_tag": "ABX9TyPycFqDmCD0bTdANLosrEUz",
      "include_colab_link": true
    },
    "kernelspec": {
      "name": "python3",
      "display_name": "Python 3"
    },
    "language_info": {
      "name": "python"
    }
  },
  "cells": [
    {
      "cell_type": "markdown",
      "metadata": {
        "id": "view-in-github",
        "colab_type": "text"
      },
      "source": [
        "<a href=\"https://colab.research.google.com/github/as5492/AICC/blob/main/exp1.ipynb\" target=\"_parent\"><img src=\"https://colab.research.google.com/assets/colab-badge.svg\" alt=\"Open In Colab\"/></a>"
      ]
    },
    {
      "cell_type": "markdown",
      "source": [
        "### ***TOWER OF HANOI***"
      ],
      "metadata": {
        "id": "zbTIhK7yK3eQ"
      }
    },
    {
      "cell_type": "code",
      "execution_count": null,
      "metadata": {
        "colab": {
          "base_uri": "https://localhost:8080/"
        },
        "id": "tEuoPOEwFV_n",
        "outputId": "310f825d-962c-4ac9-8ad1-39af93df5dc0"
      },
      "outputs": [
        {
          "output_type": "stream",
          "name": "stdout",
          "text": [
            "Move disc 1 from pole A to pole C\n",
            "Move disc 2 from pole A to pole B\n",
            "Move disc 1 from pole C to pole B\n",
            "Move disc 3 from pole A to pole C\n",
            "Move disc 1 from pole B to pole A\n",
            "Move disc 2 from pole B to pole C\n",
            "Move disc 1 from pole A to pole C\n"
          ]
        }
      ],
      "source": [
        "def TowerOfHanoi(n , s_pole, d_pole, i_pole):\n",
        "    if n == 1:\n",
        "        print(\"Move disc 1 from pole\",s_pole,\"to pole\",d_pole)\n",
        "        return\n",
        "    TowerOfHanoi(n-1, s_pole, i_pole, d_pole)\n",
        "    print(\"Move disc\",n,\"from pole\",s_pole,\"to pole\",d_pole)\n",
        "    TowerOfHanoi(n-1, i_pole, d_pole, s_pole)\n",
        "\n",
        "n = 3\n",
        "TowerOfHanoi(n, 'A', 'C', 'B')"
      ]
    },
    {
      "cell_type": "markdown",
      "source": [
        "### ***4 N-QUEENS***"
      ],
      "metadata": {
        "id": "KzRPqL9rLEyv"
      }
    },
    {
      "cell_type": "code",
      "source": [
        "N = 4\n",
        "ld = [0] * 30\n",
        "rd = [0] * 30\n",
        "cl = [0] * 30\n",
        "def printSolution(board):\n",
        "    for i in range(N):\n",
        "        for j in range(N):\n",
        "            print(\" Q \" if board[i][j] == 1 else \" . \", end=\"\")\n",
        "        print()\n",
        "def solveNQUtil(board, col):\n",
        "    if col >= N:\n",
        "        return True\n",
        "    for i in range(N):\n",
        "        if (ld[i - col + N - 1] != 1 and rd[i + col] != 1) and cl[i] != 1:\n",
        "            board[i][col] = 1\n",
        "            ld[i - col + N - 1] = rd[i + col] = cl[i] = 1\n",
        "            if solveNQUtil(board, col + 1):\n",
        "                return True\n",
        "            board[i][col] = 0  # BACKTRACK\n",
        "            ld[i - col + N - 1] = rd[i + col] = cl[i] = 0\n",
        "    return False\n",
        "def solveNQ():\n",
        "    board = [[0 for _ in range(N)] for _ in range(N)]\n",
        "    if not solveNQUtil(board, 0):\n",
        "        print(\"Solution does not exist\")\n",
        "        return False\n",
        "    printSolution(board)\n",
        "    return True\n",
        "if __name__ == \"__main__\":\n",
        "    solveNQ()"
      ],
      "metadata": {
        "colab": {
          "base_uri": "https://localhost:8080/"
        },
        "id": "HZ_BL-0xFveX",
        "outputId": "98ac6871-34bf-4bfb-d0f2-5e2e0a894141"
      },
      "execution_count": null,
      "outputs": [
        {
          "output_type": "stream",
          "name": "stdout",
          "text": [
            " .  .  Q  . \n",
            " Q  .  .  . \n",
            " .  .  .  Q \n",
            " .  Q  .  . \n"
          ]
        }
      ]
    },
    {
      "cell_type": "markdown",
      "source": [
        "### ***TIC TAC TOE***"
      ],
      "metadata": {
        "id": "HxkXapqxLX6P"
      }
    },
    {
      "cell_type": "code",
      "source": [
        "import numpy as np\n",
        "import random\n",
        "from time import sleep\n",
        "def create_board():\n",
        "    return(np.array([[0, 0, 0],\n",
        "                     [0, 0, 0],\n",
        "                     [0, 0, 0]]))\n",
        "def possibilities(board):\n",
        "    l = []\n",
        "\n",
        "    for i in range(len(board)):\n",
        "        for j in range(len(board)):\n",
        "\n",
        "            if board[i][j] == 0:\n",
        "                l.append((i, j))\n",
        "    return(l)\n",
        "def random_place(board, player):\n",
        "    selection = possibilities(board)\n",
        "    current_loc = random.choice(selection)\n",
        "    board[current_loc] = player\n",
        "    return(board)\n",
        "def row_win(board, player):\n",
        "    for x in range(len(board)):\n",
        "        win = True\n",
        "\n",
        "        for y in range(len(board)):\n",
        "            if board[x, y] != player:\n",
        "                win = False\n",
        "                continue\n",
        "\n",
        "        if win == True:\n",
        "            return(win)\n",
        "    return(win)\n",
        "def col_win(board, player):\n",
        "    for x in range(len(board)):\n",
        "        win = True\n",
        "\n",
        "        for y in range(len(board)):\n",
        "            if board[y][x] != player:\n",
        "                win = False\n",
        "                continue\n",
        "\n",
        "        if win == True:\n",
        "            return(win)\n",
        "    return(win)\n",
        "def diag_win(board, player):\n",
        "    win = True\n",
        "    y = 0\n",
        "    for x in range(len(board)):\n",
        "        if board[x, x] != player:\n",
        "            win = False\n",
        "    if win:\n",
        "        return win\n",
        "    win = True\n",
        "    if win:\n",
        "        for x in range(len(board)):\n",
        "            y = len(board) - 1 - x\n",
        "            if board[x, y] != player:\n",
        "                win = False\n",
        "    return win\n",
        "def evaluate(board):\n",
        "    winner = 0\n",
        "\n",
        "    for player in [1, 2]:\n",
        "        if (row_win(board, player) or\n",
        "                col_win(board, player) or\n",
        "                diag_win(board, player)):\n",
        "\n",
        "            winner = player\n",
        "\n",
        "    if np.all(board != 0) and winner == 0:\n",
        "        winner = -1\n",
        "    return winner\n",
        "def play_game():\n",
        "    board, winner, counter = create_board(), 0, 1\n",
        "    print(board)\n",
        "    sleep(2)\n",
        "\n",
        "    while winner == 0:\n",
        "        for player in [1, 2]:\n",
        "            board = random_place(board, player)\n",
        "            print(\"Board after \" + str(counter) + \" move\")\n",
        "            print(board)\n",
        "            sleep(2)\n",
        "            counter += 1\n",
        "            winner = evaluate(board)\n",
        "            if winner != 0:\n",
        "                break\n",
        "    return(winner)\n",
        "print(\"Winner is: \" + str(play_game()))"
      ],
      "metadata": {
        "colab": {
          "base_uri": "https://localhost:8080/"
        },
        "id": "zYOYA0JIHRiA",
        "outputId": "15f15fb2-678d-48b7-db30-628e171a2e4a"
      },
      "execution_count": null,
      "outputs": [
        {
          "output_type": "stream",
          "name": "stdout",
          "text": [
            "[[0 0 0]\n",
            " [0 0 0]\n",
            " [0 0 0]]\n",
            "Board after 1 move\n",
            "[[0 0 0]\n",
            " [0 1 0]\n",
            " [0 0 0]]\n",
            "Board after 2 move\n",
            "[[0 2 0]\n",
            " [0 1 0]\n",
            " [0 0 0]]\n",
            "Board after 3 move\n",
            "[[0 2 1]\n",
            " [0 1 0]\n",
            " [0 0 0]]\n",
            "Board after 4 move\n",
            "[[0 2 1]\n",
            " [0 1 0]\n",
            " [0 0 2]]\n",
            "Board after 5 move\n",
            "[[0 2 1]\n",
            " [0 1 1]\n",
            " [0 0 2]]\n",
            "Board after 6 move\n",
            "[[0 2 1]\n",
            " [0 1 1]\n",
            " [2 0 2]]\n",
            "Board after 7 move\n",
            "[[0 2 1]\n",
            " [0 1 1]\n",
            " [2 1 2]]\n",
            "Board after 8 move\n",
            "[[2 2 1]\n",
            " [0 1 1]\n",
            " [2 1 2]]\n",
            "Board after 9 move\n",
            "[[2 2 1]\n",
            " [1 1 1]\n",
            " [2 1 2]]\n",
            "Winner is: 1\n"
          ]
        }
      ]
    }
  ]
}